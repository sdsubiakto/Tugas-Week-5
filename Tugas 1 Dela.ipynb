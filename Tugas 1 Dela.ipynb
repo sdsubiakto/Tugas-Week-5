{
 "cells": [
  {
   "cell_type": "code",
   "execution_count": 19,
   "id": "009d0f0c-6ff8-48ee-9d15-075cae4d5ed0",
   "metadata": {
    "tags": []
   },
   "outputs": [],
   "source": [
    "import pandas as pd\n",
    "import numpy as np\n",
    "\n",
    "import matplotlib.pyplot as plt\n",
    "import seaborn as sns"
   ]
  },
  {
   "cell_type": "code",
   "execution_count": 3,
   "id": "e3812b5d-8e48-41f4-8309-8db93bc8629d",
   "metadata": {
    "tags": []
   },
   "outputs": [
    {
     "data": {
      "text/html": [
       "<div>\n",
       "<style scoped>\n",
       "    .dataframe tbody tr th:only-of-type {\n",
       "        vertical-align: middle;\n",
       "    }\n",
       "\n",
       "    .dataframe tbody tr th {\n",
       "        vertical-align: top;\n",
       "    }\n",
       "\n",
       "    .dataframe thead th {\n",
       "        text-align: right;\n",
       "    }\n",
       "</style>\n",
       "<table border=\"1\" class=\"dataframe\">\n",
       "  <thead>\n",
       "    <tr style=\"text-align: right;\">\n",
       "      <th></th>\n",
       "      <th>id</th>\n",
       "      <th>player_name</th>\n",
       "      <th>games</th>\n",
       "      <th>time</th>\n",
       "      <th>goals</th>\n",
       "      <th>xG</th>\n",
       "      <th>assists</th>\n",
       "      <th>xA</th>\n",
       "      <th>shots</th>\n",
       "      <th>key_passes</th>\n",
       "      <th>yellow_cards</th>\n",
       "      <th>red_cards</th>\n",
       "      <th>position</th>\n",
       "      <th>team_title</th>\n",
       "      <th>npg</th>\n",
       "      <th>npxG</th>\n",
       "      <th>xGChain</th>\n",
       "      <th>xGBuildup</th>\n",
       "    </tr>\n",
       "  </thead>\n",
       "  <tbody>\n",
       "    <tr>\n",
       "      <th>0</th>\n",
       "      <td>647</td>\n",
       "      <td>Harry Kane</td>\n",
       "      <td>35</td>\n",
       "      <td>3097</td>\n",
       "      <td>23</td>\n",
       "      <td>22.174859</td>\n",
       "      <td>14</td>\n",
       "      <td>7.577094</td>\n",
       "      <td>138</td>\n",
       "      <td>49</td>\n",
       "      <td>1</td>\n",
       "      <td>0</td>\n",
       "      <td>F</td>\n",
       "      <td>Tottenham</td>\n",
       "      <td>19</td>\n",
       "      <td>19.130183</td>\n",
       "      <td>24.995648</td>\n",
       "      <td>4.451257</td>\n",
       "    </tr>\n",
       "    <tr>\n",
       "      <th>1</th>\n",
       "      <td>1250</td>\n",
       "      <td>Mohamed Salah</td>\n",
       "      <td>37</td>\n",
       "      <td>3085</td>\n",
       "      <td>22</td>\n",
       "      <td>20.250847</td>\n",
       "      <td>5</td>\n",
       "      <td>6.528526</td>\n",
       "      <td>126</td>\n",
       "      <td>55</td>\n",
       "      <td>0</td>\n",
       "      <td>0</td>\n",
       "      <td>F M S</td>\n",
       "      <td>Liverpool</td>\n",
       "      <td>16</td>\n",
       "      <td>15.683834</td>\n",
       "      <td>28.968234</td>\n",
       "      <td>9.800236</td>\n",
       "    </tr>\n",
       "    <tr>\n",
       "      <th>2</th>\n",
       "      <td>1228</td>\n",
       "      <td>Bruno Fernandes</td>\n",
       "      <td>37</td>\n",
       "      <td>3117</td>\n",
       "      <td>18</td>\n",
       "      <td>16.019454</td>\n",
       "      <td>12</td>\n",
       "      <td>11.474996</td>\n",
       "      <td>121</td>\n",
       "      <td>95</td>\n",
       "      <td>6</td>\n",
       "      <td>0</td>\n",
       "      <td>M S</td>\n",
       "      <td>Manchester United</td>\n",
       "      <td>9</td>\n",
       "      <td>8.407840</td>\n",
       "      <td>26.911412</td>\n",
       "      <td>11.932285</td>\n",
       "    </tr>\n",
       "    <tr>\n",
       "      <th>3</th>\n",
       "      <td>453</td>\n",
       "      <td>Son Heung-Min</td>\n",
       "      <td>37</td>\n",
       "      <td>3139</td>\n",
       "      <td>17</td>\n",
       "      <td>11.023287</td>\n",
       "      <td>10</td>\n",
       "      <td>9.512992</td>\n",
       "      <td>68</td>\n",
       "      <td>75</td>\n",
       "      <td>0</td>\n",
       "      <td>0</td>\n",
       "      <td>F M S</td>\n",
       "      <td>Tottenham</td>\n",
       "      <td>16</td>\n",
       "      <td>10.262118</td>\n",
       "      <td>20.671916</td>\n",
       "      <td>6.608751</td>\n",
       "    </tr>\n",
       "    <tr>\n",
       "      <th>4</th>\n",
       "      <td>822</td>\n",
       "      <td>Patrick Bamford</td>\n",
       "      <td>38</td>\n",
       "      <td>3085</td>\n",
       "      <td>17</td>\n",
       "      <td>18.401863</td>\n",
       "      <td>7</td>\n",
       "      <td>3.782247</td>\n",
       "      <td>107</td>\n",
       "      <td>30</td>\n",
       "      <td>3</td>\n",
       "      <td>0</td>\n",
       "      <td>F S</td>\n",
       "      <td>Leeds</td>\n",
       "      <td>15</td>\n",
       "      <td>16.879525</td>\n",
       "      <td>23.394953</td>\n",
       "      <td>4.131796</td>\n",
       "    </tr>\n",
       "  </tbody>\n",
       "</table>\n",
       "</div>"
      ],
      "text/plain": [
       "     id      player_name  games  time  goals         xG  assists         xA  \\\n",
       "0   647       Harry Kane     35  3097     23  22.174859       14   7.577094   \n",
       "1  1250    Mohamed Salah     37  3085     22  20.250847        5   6.528526   \n",
       "2  1228  Bruno Fernandes     37  3117     18  16.019454       12  11.474996   \n",
       "3   453    Son Heung-Min     37  3139     17  11.023287       10   9.512992   \n",
       "4   822  Patrick Bamford     38  3085     17  18.401863        7   3.782247   \n",
       "\n",
       "   shots  key_passes  yellow_cards  red_cards position         team_title  \\\n",
       "0    138          49             1          0        F          Tottenham   \n",
       "1    126          55             0          0    F M S          Liverpool   \n",
       "2    121          95             6          0      M S  Manchester United   \n",
       "3     68          75             0          0    F M S          Tottenham   \n",
       "4    107          30             3          0      F S              Leeds   \n",
       "\n",
       "   npg       npxG    xGChain  xGBuildup  \n",
       "0   19  19.130183  24.995648   4.451257  \n",
       "1   16  15.683834  28.968234   9.800236  \n",
       "2    9   8.407840  26.911412  11.932285  \n",
       "3   16  10.262118  20.671916   6.608751  \n",
       "4   15  16.879525  23.394953   4.131796  "
      ]
     },
     "execution_count": 3,
     "metadata": {},
     "output_type": "execute_result"
    }
   ],
   "source": [
    "# reading data\n",
    "df = pd.read_csv(\"epl-goalScorer(20-21).csv\")\n",
    "\n",
    "# checking the dataframe \n",
    "df = df.drop(['Unnamed: 0'], axis = 1)\n",
    "df.head()"
   ]
  },
  {
   "cell_type": "code",
   "execution_count": 5,
   "id": "26eed967-39f4-4084-8568-69da7f0d316a",
   "metadata": {
    "tags": []
   },
   "outputs": [
    {
     "name": "stdout",
     "output_type": "stream",
     "text": [
      "<class 'pandas.core.frame.DataFrame'>\n",
      "RangeIndex: 522 entries, 0 to 521\n",
      "Data columns (total 18 columns):\n",
      " #   Column        Non-Null Count  Dtype  \n",
      "---  ------        --------------  -----  \n",
      " 0   id            522 non-null    int64  \n",
      " 1   player_name   522 non-null    object \n",
      " 2   games         522 non-null    int64  \n",
      " 3   time          522 non-null    int64  \n",
      " 4   goals         522 non-null    int64  \n",
      " 5   xG            522 non-null    float64\n",
      " 6   assists       522 non-null    int64  \n",
      " 7   xA            522 non-null    float64\n",
      " 8   shots         522 non-null    int64  \n",
      " 9   key_passes    522 non-null    int64  \n",
      " 10  yellow_cards  522 non-null    int64  \n",
      " 11  red_cards     522 non-null    int64  \n",
      " 12  position      522 non-null    object \n",
      " 13  team_title    522 non-null    object \n",
      " 14  npg           522 non-null    int64  \n",
      " 15  npxG          522 non-null    float64\n",
      " 16  xGChain       522 non-null    float64\n",
      " 17  xGBuildup     522 non-null    float64\n",
      "dtypes: float64(5), int64(10), object(3)\n",
      "memory usage: 73.5+ KB\n"
     ]
    }
   ],
   "source": [
    "# checking data types object\n",
    "df.info()"
   ]
  },
  {
   "cell_type": "code",
   "execution_count": 6,
   "id": "3f8666bd-d2c6-4995-b7f0-3c67de1a6894",
   "metadata": {
    "tags": []
   },
   "outputs": [
    {
     "data": {
      "text/plain": [
       "id              0\n",
       "player_name     0\n",
       "games           0\n",
       "time            0\n",
       "goals           0\n",
       "xG              0\n",
       "assists         0\n",
       "xA              0\n",
       "shots           0\n",
       "key_passes      0\n",
       "yellow_cards    0\n",
       "red_cards       0\n",
       "position        0\n",
       "team_title      0\n",
       "npg             0\n",
       "npxG            0\n",
       "xGChain         0\n",
       "xGBuildup       0\n",
       "dtype: int64"
      ]
     },
     "execution_count": 6,
     "metadata": {},
     "output_type": "execute_result"
    }
   ],
   "source": [
    "# checking null\n",
    "df.isnull().sum()"
   ]
  },
  {
   "cell_type": "markdown",
   "id": "1970a35a-b6f0-4e68-973b-a45fdd083185",
   "metadata": {},
   "source": [
    "Data yang dimiliki sudah mempunyai datatypes yang sesuai dengan kolommnya dan juga tidak memiliki null/missing value sama sekali. \\\n",
    "Selanjutnya akan diolah data tersebut untuk mendapatkan beberapa insights."
   ]
  },
  {
   "cell_type": "markdown",
   "id": "66c8b85c-005a-4f57-85a3-da552810b11b",
   "metadata": {},
   "source": [
    "# EDA"
   ]
  },
  {
   "cell_type": "code",
   "execution_count": 24,
   "id": "7baff1a5-b430-41e4-84e7-ff599cd9f577",
   "metadata": {
    "tags": []
   },
   "outputs": [
    {
     "data": {
      "text/html": [
       "<div>\n",
       "<style scoped>\n",
       "    .dataframe tbody tr th:only-of-type {\n",
       "        vertical-align: middle;\n",
       "    }\n",
       "\n",
       "    .dataframe tbody tr th {\n",
       "        vertical-align: top;\n",
       "    }\n",
       "\n",
       "    .dataframe thead th {\n",
       "        text-align: right;\n",
       "    }\n",
       "</style>\n",
       "<table border=\"1\" class=\"dataframe\">\n",
       "  <thead>\n",
       "    <tr style=\"text-align: right;\">\n",
       "      <th></th>\n",
       "      <th>player_name</th>\n",
       "      <th>goals</th>\n",
       "    </tr>\n",
       "  </thead>\n",
       "  <tbody>\n",
       "    <tr>\n",
       "      <th>0</th>\n",
       "      <td>Harry Kane</td>\n",
       "      <td>23</td>\n",
       "    </tr>\n",
       "    <tr>\n",
       "      <th>1</th>\n",
       "      <td>Mohamed Salah</td>\n",
       "      <td>22</td>\n",
       "    </tr>\n",
       "    <tr>\n",
       "      <th>2</th>\n",
       "      <td>Bruno Fernandes</td>\n",
       "      <td>18</td>\n",
       "    </tr>\n",
       "    <tr>\n",
       "      <th>3</th>\n",
       "      <td>Son Heung-Min</td>\n",
       "      <td>17</td>\n",
       "    </tr>\n",
       "    <tr>\n",
       "      <th>4</th>\n",
       "      <td>Patrick Bamford</td>\n",
       "      <td>17</td>\n",
       "    </tr>\n",
       "    <tr>\n",
       "      <th>5</th>\n",
       "      <td>Dominic Calvert-Lewin</td>\n",
       "      <td>16</td>\n",
       "    </tr>\n",
       "    <tr>\n",
       "      <th>6</th>\n",
       "      <td>Jamie Vardy</td>\n",
       "      <td>15</td>\n",
       "    </tr>\n",
       "    <tr>\n",
       "      <th>7</th>\n",
       "      <td>Ollie Watkins</td>\n",
       "      <td>14</td>\n",
       "    </tr>\n",
       "    <tr>\n",
       "      <th>8</th>\n",
       "      <td>Ilkay Gündogan</td>\n",
       "      <td>13</td>\n",
       "    </tr>\n",
       "    <tr>\n",
       "      <th>9</th>\n",
       "      <td>Alexandre Lacazette</td>\n",
       "      <td>13</td>\n",
       "    </tr>\n",
       "  </tbody>\n",
       "</table>\n",
       "</div>"
      ],
      "text/plain": [
       "             player_name  goals\n",
       "0             Harry Kane     23\n",
       "1          Mohamed Salah     22\n",
       "2        Bruno Fernandes     18\n",
       "3          Son Heung-Min     17\n",
       "4        Patrick Bamford     17\n",
       "5  Dominic Calvert-Lewin     16\n",
       "6            Jamie Vardy     15\n",
       "7          Ollie Watkins     14\n",
       "8         Ilkay Gündogan     13\n",
       "9    Alexandre Lacazette     13"
      ]
     },
     "execution_count": 24,
     "metadata": {},
     "output_type": "execute_result"
    }
   ],
   "source": [
    "# sorting dataframe berdasarkan 'goals'\n",
    "top10_goals = df.sort_values('goals', ascending = False)\n",
    "top10_goals[['player_name', 'goals']].head(10)"
   ]
  },
  {
   "cell_type": "code",
   "execution_count": 39,
   "id": "0b999feb-9141-4bc0-9e46-3abf9a2c5cc2",
   "metadata": {
    "tags": []
   },
   "outputs": [
    {
     "data": {
      "image/png": "[encoded data removed]",
      "text/plain": [
       "<Figure size 1200x500 with 1 Axes>"
      ]
     },
     "metadata": {},
     "output_type": "display_data"
    }
   ],
   "source": [
    "plt.figure(figsize=(12,5))\n",
    "sns.barplot(top10_goals, x = 'player_name', y='goals',\n",
    "            order = top10_goals[['player_name', 'goals']].sort_values(\"goals\",ascending = False)['player_name'][:10])\n",
    "\n",
    "plt.title(\"Jumlah Goal yang dicetak oleh Player\")\n",
    "plt.xlabel(\"Player Name\")\n",
    "plt.ylabel(\"Goals\")\n",
    "plt.xticks(rotation = 45)\n",
    "plt.show()"
   ]
  },
  {
   "cell_type": "markdown",
   "id": "41535a87-a9c7-4062-8f9b-4953ca5f50bf",
   "metadata": {
    "tags": []
   },
   "source": [
    "Berdasarkan dataframe dan juga barplot, dapat dilihat bahwa pencetak gol terbanyak di EPL adalah **Harry Kane (23 Goal)**, lalu dilanjuti dengan **Mohamed Salah (22 Goal)** dan juga **Bruno Fernandes (18 Goal)**."
   ]
  },
  {
   "cell_type": "code",
   "execution_count": 101,
   "id": "9e2b454c-00e4-44be-80b6-fc6706701c1f",
   "metadata": {
    "tags": []
   },
   "outputs": [
    {
     "data": {
      "text/html": [
       "<div>\n",
       "<style scoped>\n",
       "    .dataframe tbody tr th:only-of-type {\n",
       "        vertical-align: middle;\n",
       "    }\n",
       "\n",
       "    .dataframe tbody tr th {\n",
       "        vertical-align: top;\n",
       "    }\n",
       "\n",
       "    .dataframe thead th {\n",
       "        text-align: right;\n",
       "    }\n",
       "</style>\n",
       "<table border=\"1\" class=\"dataframe\">\n",
       "  <thead>\n",
       "    <tr style=\"text-align: right;\">\n",
       "      <th></th>\n",
       "      <th>player_name</th>\n",
       "      <th>games</th>\n",
       "      <th>time</th>\n",
       "    </tr>\n",
       "  </thead>\n",
       "  <tbody>\n",
       "    <tr>\n",
       "      <th>110</th>\n",
       "      <td>Pierre-Emile Højbjerg</td>\n",
       "      <td>38</td>\n",
       "      <td>3420</td>\n",
       "    </tr>\n",
       "    <tr>\n",
       "      <th>311</th>\n",
       "      <td>Kasper Schmeichel</td>\n",
       "      <td>38</td>\n",
       "      <td>3420</td>\n",
       "    </tr>\n",
       "    <tr>\n",
       "      <th>296</th>\n",
       "      <td>Hugo Lloris</td>\n",
       "      <td>38</td>\n",
       "      <td>3420</td>\n",
       "    </tr>\n",
       "    <tr>\n",
       "      <th>378</th>\n",
       "      <td>Emiliano Martinez</td>\n",
       "      <td>38</td>\n",
       "      <td>3420</td>\n",
       "    </tr>\n",
       "    <tr>\n",
       "      <th>40</th>\n",
       "      <td>Stuart Dallas</td>\n",
       "      <td>38</td>\n",
       "      <td>3412</td>\n",
       "    </tr>\n",
       "    <tr>\n",
       "      <th>327</th>\n",
       "      <td>Matt Targett</td>\n",
       "      <td>38</td>\n",
       "      <td>3407</td>\n",
       "    </tr>\n",
       "    <tr>\n",
       "      <th>480</th>\n",
       "      <td>Luke Ayling</td>\n",
       "      <td>38</td>\n",
       "      <td>3400</td>\n",
       "    </tr>\n",
       "    <tr>\n",
       "      <th>204</th>\n",
       "      <td>Andrew Robertson</td>\n",
       "      <td>38</td>\n",
       "      <td>3391</td>\n",
       "    </tr>\n",
       "    <tr>\n",
       "      <th>55</th>\n",
       "      <td>Youri Tielemans</td>\n",
       "      <td>38</td>\n",
       "      <td>3359</td>\n",
       "    </tr>\n",
       "    <tr>\n",
       "      <th>361</th>\n",
       "      <td>Vicente Guaita</td>\n",
       "      <td>37</td>\n",
       "      <td>3330</td>\n",
       "    </tr>\n",
       "  </tbody>\n",
       "</table>\n",
       "</div>"
      ],
      "text/plain": [
       "               player_name  games  time\n",
       "110  Pierre-Emile Højbjerg     38  3420\n",
       "311      Kasper Schmeichel     38  3420\n",
       "296            Hugo Lloris     38  3420\n",
       "378      Emiliano Martinez     38  3420\n",
       "40           Stuart Dallas     38  3412\n",
       "327           Matt Targett     38  3407\n",
       "480            Luke Ayling     38  3400\n",
       "204       Andrew Robertson     38  3391\n",
       "55         Youri Tielemans     38  3359\n",
       "361         Vicente Guaita     37  3330"
      ]
     },
     "execution_count": 101,
     "metadata": {},
     "output_type": "execute_result"
    }
   ],
   "source": [
    "# Q2. 10 player terlama durasi bermain\n",
    "\n",
    "# sorting dataframe based on 'time'\n",
    "top10_time = df.sort_values(['time', 'player_name'], ascending = False)\n",
    "top10_time[['player_name', 'games','time']].head(10)"
   ]
  },
  {
   "cell_type": "code",
   "execution_count": 48,
   "id": "d537e490-b425-4b08-9dbf-6e88aaed5910",
   "metadata": {
    "tags": []
   },
   "outputs": [
    {
     "data": {
      "image/png": "[encoded data removed]",
      "text/plain": [
       "<Figure size 1200x500 with 1 Axes>"
      ]
     },
     "metadata": {},
     "output_type": "display_data"
    }
   ],
   "source": [
    "plt.figure(figsize=(12,5))\n",
    "sns.barplot(top10_time, x = 'player_name', y='time',\n",
    "            order = top10_time[['player_name', 'time']].sort_values(\"time\",ascending = False)['player_name'][:10])\n",
    "\n",
    "plt.title(\"Waktu Bermain dari Player\")\n",
    "plt.xlabel(\"Player Name\")\n",
    "plt.ylabel(\"Play Time\")\n",
    "plt.xticks(rotation = 45)\n",
    "plt.ylim([3000, 3500])\n",
    "plt.show()"
   ]
  },
  {
   "cell_type": "markdown",
   "id": "d483dd36-8740-480f-9c15-2e91650b265c",
   "metadata": {},
   "source": [
    "Berdasarkan dataframe dan juga barplot, pemain yang memiliki durasi bermain terlama adalah **Hojbjerg, Emi Martinez, dan  K. Schmeichel** dengan waktu bermain **3420**"
   ]
  },
  {
   "cell_type": "code",
   "execution_count": 52,
   "id": "fa0a436e-2f77-4074-81a5-6eb82aa84fe8",
   "metadata": {
    "tags": []
   },
   "outputs": [
    {
     "data": {
      "text/html": [
       "<div>\n",
       "<style scoped>\n",
       "    .dataframe tbody tr th:only-of-type {\n",
       "        vertical-align: middle;\n",
       "    }\n",
       "\n",
       "    .dataframe tbody tr th {\n",
       "        vertical-align: top;\n",
       "    }\n",
       "\n",
       "    .dataframe thead th {\n",
       "        text-align: right;\n",
       "    }\n",
       "</style>\n",
       "<table border=\"1\" class=\"dataframe\">\n",
       "  <thead>\n",
       "    <tr style=\"text-align: right;\">\n",
       "      <th></th>\n",
       "      <th>player_name</th>\n",
       "      <th>assists</th>\n",
       "    </tr>\n",
       "  </thead>\n",
       "  <tbody>\n",
       "    <tr>\n",
       "      <th>0</th>\n",
       "      <td>Harry Kane</td>\n",
       "      <td>14</td>\n",
       "    </tr>\n",
       "    <tr>\n",
       "      <th>2</th>\n",
       "      <td>Bruno Fernandes</td>\n",
       "      <td>12</td>\n",
       "    </tr>\n",
       "    <tr>\n",
       "      <th>58</th>\n",
       "      <td>Kevin De Bruyne</td>\n",
       "      <td>11</td>\n",
       "    </tr>\n",
       "    <tr>\n",
       "      <th>3</th>\n",
       "      <td>Son Heung-Min</td>\n",
       "      <td>10</td>\n",
       "    </tr>\n",
       "    <tr>\n",
       "      <th>51</th>\n",
       "      <td>Jack Grealish</td>\n",
       "      <td>10</td>\n",
       "    </tr>\n",
       "    <tr>\n",
       "      <th>...</th>\n",
       "      <td>...</td>\n",
       "      <td>...</td>\n",
       "    </tr>\n",
       "    <tr>\n",
       "      <th>290</th>\n",
       "      <td>James McCarthy</td>\n",
       "      <td>0</td>\n",
       "    </tr>\n",
       "    <tr>\n",
       "      <th>289</th>\n",
       "      <td>Phil Jagielka</td>\n",
       "      <td>0</td>\n",
       "    </tr>\n",
       "    <tr>\n",
       "      <th>287</th>\n",
       "      <td>Odion Ighalo</td>\n",
       "      <td>0</td>\n",
       "    </tr>\n",
       "    <tr>\n",
       "      <th>285</th>\n",
       "      <td>Timothy Fosu-Mensah</td>\n",
       "      <td>0</td>\n",
       "    </tr>\n",
       "    <tr>\n",
       "      <th>521</th>\n",
       "      <td>Tyrese Francois</td>\n",
       "      <td>0</td>\n",
       "    </tr>\n",
       "  </tbody>\n",
       "</table>\n",
       "<p>522 rows × 2 columns</p>\n",
       "</div>"
      ],
      "text/plain": [
       "             player_name  assists\n",
       "0             Harry Kane       14\n",
       "2        Bruno Fernandes       12\n",
       "58       Kevin De Bruyne       11\n",
       "3          Son Heung-Min       10\n",
       "51         Jack Grealish       10\n",
       "..                   ...      ...\n",
       "290       James McCarthy        0\n",
       "289        Phil Jagielka        0\n",
       "287         Odion Ighalo        0\n",
       "285  Timothy Fosu-Mensah        0\n",
       "521      Tyrese Francois        0\n",
       "\n",
       "[522 rows x 2 columns]"
      ]
     },
     "execution_count": 52,
     "metadata": {},
     "output_type": "execute_result"
    }
   ],
   "source": [
    "# Q3. 10 pemain terbanyak assist\n",
    "top10_assist = df.sort_values(\"assists\", ascending = False)\n",
    "top10_assist[['player_name', 'assists']]"
   ]
  },
  {
   "cell_type": "code",
   "execution_count": 55,
   "id": "99669edf-1565-4aa0-8688-bbd95f17998e",
   "metadata": {
    "tags": []
   },
   "outputs": [
    {
     "data": {
      "image/png": "[encoded data removed]",
      "text/plain": [
       "<Figure size 1200x500 with 1 Axes>"
      ]
     },
     "metadata": {},
     "output_type": "display_data"
    }
   ],
   "source": [
    "plt.figure(figsize=(12,5))\n",
    "sns.barplot(top10_assist, x = 'player_name', y='assists',\n",
    "            order = top10_assist[['player_name', 'assists']].sort_values(\"assists\",ascending = False)['player_name'][:10])\n",
    "\n",
    "plt.title(\"Jumlah Assist Pemain\")\n",
    "plt.xlabel(\"Player Name\")\n",
    "plt.ylabel(\"Assists\")\n",
    "plt.xticks(rotation = 45)\n",
    "plt.show()"
   ]
  },
  {
   "cell_type": "markdown",
   "id": "95f4cc7b-3ed8-46b6-8064-d03cf4cabd96",
   "metadata": {},
   "source": [
    "Berdasarkan dataframe dan juga barplot, pemain yang memiliki assist terbanyak adalah **Harry Kane (14 Assist)** yang dilanjuti oleh **Bruno Fernandes (12 Assist) dan Kevin De Bruyne (11 Assist)**."
   ]
  },
  {
   "cell_type": "code",
   "execution_count": 62,
   "id": "26d4c7f8-5a8a-47fb-89ed-762247140b52",
   "metadata": {
    "tags": []
   },
   "outputs": [
    {
     "data": {
      "text/html": [
       "<div>\n",
       "<style scoped>\n",
       "    .dataframe tbody tr th:only-of-type {\n",
       "        vertical-align: middle;\n",
       "    }\n",
       "\n",
       "    .dataframe tbody tr th {\n",
       "        vertical-align: top;\n",
       "    }\n",
       "\n",
       "    .dataframe thead th {\n",
       "        text-align: right;\n",
       "    }\n",
       "</style>\n",
       "<table border=\"1\" class=\"dataframe\">\n",
       "  <thead>\n",
       "    <tr style=\"text-align: right;\">\n",
       "      <th></th>\n",
       "      <th>player_name</th>\n",
       "      <th>goals</th>\n",
       "    </tr>\n",
       "  </thead>\n",
       "  <tbody>\n",
       "    <tr>\n",
       "      <th>8</th>\n",
       "      <td>Ilkay Gündogan</td>\n",
       "      <td>13</td>\n",
       "    </tr>\n",
       "    <tr>\n",
       "      <th>22</th>\n",
       "      <td>Raheem Sterling</td>\n",
       "      <td>10</td>\n",
       "    </tr>\n",
       "    <tr>\n",
       "      <th>28</th>\n",
       "      <td>Riyad Mahrez</td>\n",
       "      <td>9</td>\n",
       "    </tr>\n",
       "    <tr>\n",
       "      <th>35</th>\n",
       "      <td>Gabriel Jesus</td>\n",
       "      <td>8</td>\n",
       "    </tr>\n",
       "  </tbody>\n",
       "</table>\n",
       "</div>"
      ],
      "text/plain": [
       "        player_name  goals\n",
       "8    Ilkay Gündogan     13\n",
       "22  Raheem Sterling     10\n",
       "28     Riyad Mahrez      9\n",
       "35    Gabriel Jesus      8"
      ]
     },
     "execution_count": 62,
     "metadata": {},
     "output_type": "execute_result"
    }
   ],
   "source": [
    "# Q4. 4 pemain cetak gol terbanyak dari man city\n",
    "\n",
    "# filtering dataframe to show only man city player\n",
    "man_city = df[df['team_title'] == 'Manchester City']\n",
    "\n",
    "# sorting for most goals\n",
    "man_city_goal = man_city.sort_values(\"goals\", ascending = False)\n",
    "man_city_goal[['player_name', 'goals']].head(4)"
   ]
  },
  {
   "cell_type": "code",
   "execution_count": 64,
   "id": "7fbc96ca-71ae-47fa-b997-19d6407a78de",
   "metadata": {
    "tags": []
   },
   "outputs": [
    {
     "data": {
      "image/png": "[encoded data removed]",
      "text/plain": [
       "<Figure size 640x480 with 1 Axes>"
      ]
     },
     "metadata": {},
     "output_type": "display_data"
    }
   ],
   "source": [
    "sns.barplot(man_city_goal.head(4), x = 'player_name', y = 'goals')\n",
    "\n",
    "plt.title(\"Jumlah Gol Pemain Man. City\")\n",
    "plt.xlabel(\"Player Name\")\n",
    "plt.ylabel(\"Goals\")\n",
    "plt.show()"
   ]
  },
  {
   "cell_type": "markdown",
   "id": "b21fd6ec-b53b-4257-8701-9c2bb29e5c88",
   "metadata": {},
   "source": [
    "Berdasarkan dataframe dan juga barplot, 4 pemain yang mencetak gol terbanyak dari Manchester City adalah:\n",
    "1. Ilkay Gundogan (13)\n",
    "2. Raheem Sterling (10)\n",
    "3. Riyad Mahrez (9)\n",
    "4. Gabriel Jesus (8)"
   ]
  },
  {
   "cell_type": "code",
   "execution_count": 65,
   "id": "8b962025-ebfb-47eb-b1ec-f25d8e96e051",
   "metadata": {
    "tags": []
   },
   "outputs": [
    {
     "data": {
      "text/html": [
       "<div>\n",
       "<style scoped>\n",
       "    .dataframe tbody tr th:only-of-type {\n",
       "        vertical-align: middle;\n",
       "    }\n",
       "\n",
       "    .dataframe tbody tr th {\n",
       "        vertical-align: top;\n",
       "    }\n",
       "\n",
       "    .dataframe thead th {\n",
       "        text-align: right;\n",
       "    }\n",
       "</style>\n",
       "<table border=\"1\" class=\"dataframe\">\n",
       "  <thead>\n",
       "    <tr style=\"text-align: right;\">\n",
       "      <th></th>\n",
       "      <th>id</th>\n",
       "      <th>player_name</th>\n",
       "      <th>games</th>\n",
       "      <th>time</th>\n",
       "      <th>goals</th>\n",
       "      <th>xG</th>\n",
       "      <th>assists</th>\n",
       "      <th>xA</th>\n",
       "      <th>shots</th>\n",
       "      <th>key_passes</th>\n",
       "      <th>yellow_cards</th>\n",
       "      <th>red_cards</th>\n",
       "      <th>position</th>\n",
       "      <th>team_title</th>\n",
       "      <th>npg</th>\n",
       "      <th>npxG</th>\n",
       "      <th>xGChain</th>\n",
       "      <th>xGBuildup</th>\n",
       "    </tr>\n",
       "  </thead>\n",
       "  <tbody>\n",
       "    <tr>\n",
       "      <th>0</th>\n",
       "      <td>647</td>\n",
       "      <td>Harry Kane</td>\n",
       "      <td>35</td>\n",
       "      <td>3097</td>\n",
       "      <td>23</td>\n",
       "      <td>22.174859</td>\n",
       "      <td>14</td>\n",
       "      <td>7.577094</td>\n",
       "      <td>138</td>\n",
       "      <td>49</td>\n",
       "      <td>1</td>\n",
       "      <td>0</td>\n",
       "      <td>F</td>\n",
       "      <td>Tottenham</td>\n",
       "      <td>19</td>\n",
       "      <td>19.130183</td>\n",
       "      <td>24.995648</td>\n",
       "      <td>4.451257</td>\n",
       "    </tr>\n",
       "    <tr>\n",
       "      <th>1</th>\n",
       "      <td>1250</td>\n",
       "      <td>Mohamed Salah</td>\n",
       "      <td>37</td>\n",
       "      <td>3085</td>\n",
       "      <td>22</td>\n",
       "      <td>20.250847</td>\n",
       "      <td>5</td>\n",
       "      <td>6.528526</td>\n",
       "      <td>126</td>\n",
       "      <td>55</td>\n",
       "      <td>0</td>\n",
       "      <td>0</td>\n",
       "      <td>F M S</td>\n",
       "      <td>Liverpool</td>\n",
       "      <td>16</td>\n",
       "      <td>15.683834</td>\n",
       "      <td>28.968234</td>\n",
       "      <td>9.800236</td>\n",
       "    </tr>\n",
       "    <tr>\n",
       "      <th>2</th>\n",
       "      <td>1228</td>\n",
       "      <td>Bruno Fernandes</td>\n",
       "      <td>37</td>\n",
       "      <td>3117</td>\n",
       "      <td>18</td>\n",
       "      <td>16.019454</td>\n",
       "      <td>12</td>\n",
       "      <td>11.474996</td>\n",
       "      <td>121</td>\n",
       "      <td>95</td>\n",
       "      <td>6</td>\n",
       "      <td>0</td>\n",
       "      <td>M S</td>\n",
       "      <td>Manchester United</td>\n",
       "      <td>9</td>\n",
       "      <td>8.407840</td>\n",
       "      <td>26.911412</td>\n",
       "      <td>11.932285</td>\n",
       "    </tr>\n",
       "    <tr>\n",
       "      <th>3</th>\n",
       "      <td>453</td>\n",
       "      <td>Son Heung-Min</td>\n",
       "      <td>37</td>\n",
       "      <td>3139</td>\n",
       "      <td>17</td>\n",
       "      <td>11.023287</td>\n",
       "      <td>10</td>\n",
       "      <td>9.512992</td>\n",
       "      <td>68</td>\n",
       "      <td>75</td>\n",
       "      <td>0</td>\n",
       "      <td>0</td>\n",
       "      <td>F M S</td>\n",
       "      <td>Tottenham</td>\n",
       "      <td>16</td>\n",
       "      <td>10.262118</td>\n",
       "      <td>20.671916</td>\n",
       "      <td>6.608751</td>\n",
       "    </tr>\n",
       "    <tr>\n",
       "      <th>4</th>\n",
       "      <td>822</td>\n",
       "      <td>Patrick Bamford</td>\n",
       "      <td>38</td>\n",
       "      <td>3085</td>\n",
       "      <td>17</td>\n",
       "      <td>18.401863</td>\n",
       "      <td>7</td>\n",
       "      <td>3.782247</td>\n",
       "      <td>107</td>\n",
       "      <td>30</td>\n",
       "      <td>3</td>\n",
       "      <td>0</td>\n",
       "      <td>F S</td>\n",
       "      <td>Leeds</td>\n",
       "      <td>15</td>\n",
       "      <td>16.879525</td>\n",
       "      <td>23.394953</td>\n",
       "      <td>4.131796</td>\n",
       "    </tr>\n",
       "  </tbody>\n",
       "</table>\n",
       "</div>"
      ],
      "text/plain": [
       "     id      player_name  games  time  goals         xG  assists         xA  \\\n",
       "0   647       Harry Kane     35  3097     23  22.174859       14   7.577094   \n",
       "1  1250    Mohamed Salah     37  3085     22  20.250847        5   6.528526   \n",
       "2  1228  Bruno Fernandes     37  3117     18  16.019454       12  11.474996   \n",
       "3   453    Son Heung-Min     37  3139     17  11.023287       10   9.512992   \n",
       "4   822  Patrick Bamford     38  3085     17  18.401863        7   3.782247   \n",
       "\n",
       "   shots  key_passes  yellow_cards  red_cards position         team_title  \\\n",
       "0    138          49             1          0        F          Tottenham   \n",
       "1    126          55             0          0    F M S          Liverpool   \n",
       "2    121          95             6          0      M S  Manchester United   \n",
       "3     68          75             0          0    F M S          Tottenham   \n",
       "4    107          30             3          0      F S              Leeds   \n",
       "\n",
       "   npg       npxG    xGChain  xGBuildup  \n",
       "0   19  19.130183  24.995648   4.451257  \n",
       "1   16  15.683834  28.968234   9.800236  \n",
       "2    9   8.407840  26.911412  11.932285  \n",
       "3   16  10.262118  20.671916   6.608751  \n",
       "4   15  16.879525  23.394953   4.131796  "
      ]
     },
     "execution_count": 65,
     "metadata": {},
     "output_type": "execute_result"
    }
   ],
   "source": [
    "# Q5. Dari kesebelasan mana pencetak gol terbanyak\n",
    "top10_goals.head()"
   ]
  },
  {
   "cell_type": "markdown",
   "id": "390b0d14-6c2b-4a89-acb5-a4d4f9a7dea8",
   "metadata": {},
   "source": [
    "Berdasarkan dataframe diatas, dapat kita lihat bahwa pencetak gol terbanyak (Harry Kane) berasal dari kesebelasan **Tottenham**"
   ]
  },
  {
   "cell_type": "code",
   "execution_count": 73,
   "id": "881ed50e-d145-47f2-bc47-527a28bfd8fb",
   "metadata": {
    "tags": []
   },
   "outputs": [
    {
     "name": "stdout",
     "output_type": "stream",
     "text": [
      "Jumlah Kartu Kuning : 1 \n",
      "Jumlah Kartu Merah : 0 \n"
     ]
    }
   ],
   "source": [
    "# Q6. Berapa jumlah kartu kuning dan kartu merah yang didapatkan oleh pemain dengan jumlah assist terbanyak?\n",
    "\n",
    "# filtering to Harry Kane\n",
    "yellowCard =  df[df['player_name'] == 'Harry Kane']['yellow_cards'][0]\n",
    "redCard = df[df['player_name'] == 'Harry Kane']['red_cards'][0]\n",
    "\n",
    "print(f\"Jumlah Kartu Kuning : {yellowCard} \")\n",
    "print(f\"Jumlah Kartu Merah : {redCard} \")"
   ]
  },
  {
   "cell_type": "markdown",
   "id": "1000552f-a1c2-4bc9-9d57-172c4fdd1bc7",
   "metadata": {
    "tags": []
   },
   "source": [
    "Berdasarkan pertanyaan sebelumnya, telah diketahui bahwa Harry Kane merupakan pemain dengan assist terbanyak. \\\n",
    "Oleh karena itu, jumlah kartu kuning dan kartu merah yang didapati oleh Harry Kane adalah:\n",
    "- Yellow Card = 1\n",
    "- Red Card = 0"
   ]
  },
  {
   "cell_type": "code",
   "execution_count": 76,
   "id": "f255fa8f-23dd-42a0-aba1-f2137f161b26",
   "metadata": {
    "tags": []
   },
   "outputs": [
    {
     "data": {
      "text/html": [
       "<div>\n",
       "<style scoped>\n",
       "    .dataframe tbody tr th:only-of-type {\n",
       "        vertical-align: middle;\n",
       "    }\n",
       "\n",
       "    .dataframe tbody tr th {\n",
       "        vertical-align: top;\n",
       "    }\n",
       "\n",
       "    .dataframe thead th {\n",
       "        text-align: right;\n",
       "    }\n",
       "</style>\n",
       "<table border=\"1\" class=\"dataframe\">\n",
       "  <thead>\n",
       "    <tr style=\"text-align: right;\">\n",
       "      <th></th>\n",
       "      <th>id</th>\n",
       "      <th>player_name</th>\n",
       "      <th>games</th>\n",
       "      <th>time</th>\n",
       "      <th>goals</th>\n",
       "      <th>xG</th>\n",
       "      <th>assists</th>\n",
       "      <th>xA</th>\n",
       "      <th>shots</th>\n",
       "      <th>key_passes</th>\n",
       "      <th>yellow_cards</th>\n",
       "      <th>red_cards</th>\n",
       "      <th>position</th>\n",
       "      <th>team_title</th>\n",
       "      <th>npg</th>\n",
       "      <th>npxG</th>\n",
       "      <th>xGChain</th>\n",
       "      <th>xGBuildup</th>\n",
       "    </tr>\n",
       "  </thead>\n",
       "  <tbody>\n",
       "    <tr>\n",
       "      <th>0</th>\n",
       "      <td>647</td>\n",
       "      <td>Harry Kane</td>\n",
       "      <td>35</td>\n",
       "      <td>3097</td>\n",
       "      <td>23</td>\n",
       "      <td>22.174859</td>\n",
       "      <td>14</td>\n",
       "      <td>7.577094</td>\n",
       "      <td>138</td>\n",
       "      <td>49</td>\n",
       "      <td>1</td>\n",
       "      <td>0</td>\n",
       "      <td>F</td>\n",
       "      <td>Tottenham</td>\n",
       "      <td>19</td>\n",
       "      <td>19.130183</td>\n",
       "      <td>24.995648</td>\n",
       "      <td>4.451257</td>\n",
       "    </tr>\n",
       "  </tbody>\n",
       "</table>\n",
       "</div>"
      ],
      "text/plain": [
       "    id player_name  games  time  goals         xG  assists        xA  shots  \\\n",
       "0  647  Harry Kane     35  3097     23  22.174859       14  7.577094    138   \n",
       "\n",
       "   key_passes  yellow_cards  red_cards position team_title  npg       npxG  \\\n",
       "0          49             1          0        F  Tottenham   19  19.130183   \n",
       "\n",
       "     xGChain  xGBuildup  \n",
       "0  24.995648   4.451257  "
      ]
     },
     "execution_count": 76,
     "metadata": {},
     "output_type": "execute_result"
    }
   ],
   "source": [
    "# Q7. Siapa yang jumlah assist dan gol nya terbanyak dan dari kesebelasan mana?\n",
    "top10_goals.head(1)"
   ]
  },
  {
   "cell_type": "code",
   "execution_count": 77,
   "id": "8621bc86-d98c-4f0f-9050-dd4532ac9bdc",
   "metadata": {
    "tags": []
   },
   "outputs": [
    {
     "data": {
      "text/html": [
       "<div>\n",
       "<style scoped>\n",
       "    .dataframe tbody tr th:only-of-type {\n",
       "        vertical-align: middle;\n",
       "    }\n",
       "\n",
       "    .dataframe tbody tr th {\n",
       "        vertical-align: top;\n",
       "    }\n",
       "\n",
       "    .dataframe thead th {\n",
       "        text-align: right;\n",
       "    }\n",
       "</style>\n",
       "<table border=\"1\" class=\"dataframe\">\n",
       "  <thead>\n",
       "    <tr style=\"text-align: right;\">\n",
       "      <th></th>\n",
       "      <th>id</th>\n",
       "      <th>player_name</th>\n",
       "      <th>games</th>\n",
       "      <th>time</th>\n",
       "      <th>goals</th>\n",
       "      <th>xG</th>\n",
       "      <th>assists</th>\n",
       "      <th>xA</th>\n",
       "      <th>shots</th>\n",
       "      <th>key_passes</th>\n",
       "      <th>yellow_cards</th>\n",
       "      <th>red_cards</th>\n",
       "      <th>position</th>\n",
       "      <th>team_title</th>\n",
       "      <th>npg</th>\n",
       "      <th>npxG</th>\n",
       "      <th>xGChain</th>\n",
       "      <th>xGBuildup</th>\n",
       "    </tr>\n",
       "  </thead>\n",
       "  <tbody>\n",
       "    <tr>\n",
       "      <th>0</th>\n",
       "      <td>647</td>\n",
       "      <td>Harry Kane</td>\n",
       "      <td>35</td>\n",
       "      <td>3097</td>\n",
       "      <td>23</td>\n",
       "      <td>22.174859</td>\n",
       "      <td>14</td>\n",
       "      <td>7.577094</td>\n",
       "      <td>138</td>\n",
       "      <td>49</td>\n",
       "      <td>1</td>\n",
       "      <td>0</td>\n",
       "      <td>F</td>\n",
       "      <td>Tottenham</td>\n",
       "      <td>19</td>\n",
       "      <td>19.130183</td>\n",
       "      <td>24.995648</td>\n",
       "      <td>4.451257</td>\n",
       "    </tr>\n",
       "  </tbody>\n",
       "</table>\n",
       "</div>"
      ],
      "text/plain": [
       "    id player_name  games  time  goals         xG  assists        xA  shots  \\\n",
       "0  647  Harry Kane     35  3097     23  22.174859       14  7.577094    138   \n",
       "\n",
       "   key_passes  yellow_cards  red_cards position team_title  npg       npxG  \\\n",
       "0          49             1          0        F  Tottenham   19  19.130183   \n",
       "\n",
       "     xGChain  xGBuildup  \n",
       "0  24.995648   4.451257  "
      ]
     },
     "execution_count": 77,
     "metadata": {},
     "output_type": "execute_result"
    }
   ],
   "source": [
    "top10_assist.head(1)"
   ]
  },
  {
   "cell_type": "markdown",
   "id": "450c9dd3-1f4b-48d5-a597-63090ebc9cff",
   "metadata": {},
   "source": [
    "Berdasarkan pertanyaan sebelumnya dan juga beberapa plot sebelumnya, telah diketahui bahwa pemain yang memiliki jumlah gol dan assist terbanyak adalah **Harry Kane**. \\\n",
    "**Harry Kane** berasal dari kesebelasan **Tottenham**."
   ]
  },
  {
   "cell_type": "code",
   "execution_count": 88,
   "id": "1b17ba4a-9a8d-484f-afab-f0c3690888d0",
   "metadata": {
    "tags": []
   },
   "outputs": [
    {
     "data": {
      "text/html": [
       "<div>\n",
       "<style scoped>\n",
       "    .dataframe tbody tr th:only-of-type {\n",
       "        vertical-align: middle;\n",
       "    }\n",
       "\n",
       "    .dataframe tbody tr th {\n",
       "        vertical-align: top;\n",
       "    }\n",
       "\n",
       "    .dataframe thead th {\n",
       "        text-align: right;\n",
       "    }\n",
       "</style>\n",
       "<table border=\"1\" class=\"dataframe\">\n",
       "  <thead>\n",
       "    <tr style=\"text-align: right;\">\n",
       "      <th></th>\n",
       "      <th>team_title</th>\n",
       "      <th>total_goal</th>\n",
       "      <th>total_assist</th>\n",
       "    </tr>\n",
       "  </thead>\n",
       "  <tbody>\n",
       "    <tr>\n",
       "      <th>18</th>\n",
       "      <td>Manchester City</td>\n",
       "      <td>77</td>\n",
       "      <td>50</td>\n",
       "    </tr>\n",
       "    <tr>\n",
       "      <th>19</th>\n",
       "      <td>Manchester United</td>\n",
       "      <td>68</td>\n",
       "      <td>50</td>\n",
       "    </tr>\n",
       "    <tr>\n",
       "      <th>23</th>\n",
       "      <td>Tottenham</td>\n",
       "      <td>66</td>\n",
       "      <td>50</td>\n",
       "    </tr>\n",
       "    <tr>\n",
       "      <th>16</th>\n",
       "      <td>Liverpool</td>\n",
       "      <td>64</td>\n",
       "      <td>43</td>\n",
       "    </tr>\n",
       "    <tr>\n",
       "      <th>15</th>\n",
       "      <td>Leicester</td>\n",
       "      <td>64</td>\n",
       "      <td>45</td>\n",
       "    </tr>\n",
       "  </tbody>\n",
       "</table>\n",
       "</div>"
      ],
      "text/plain": [
       "           team_title  total_goal  total_assist\n",
       "18    Manchester City          77            50\n",
       "19  Manchester United          68            50\n",
       "23          Tottenham          66            50\n",
       "16          Liverpool          64            43\n",
       "15          Leicester          64            45"
      ]
     },
     "execution_count": 88,
     "metadata": {},
     "output_type": "execute_result"
    }
   ],
   "source": [
    "# Q8. 5 kesebelasan yang menyumbang gol paling banyak\n",
    "\n",
    "# grouping dataframe based on team name\n",
    "team_goal = df.groupby(['team_title']).agg(\n",
    "    total_goal = (\"goals\", \"sum\"),\n",
    "    total_assist = ('assists', 'sum')\n",
    ")\n",
    "\n",
    "team_goal = team_goal.reset_index()\n",
    "\n",
    "# sorting to most goals\n",
    "most_goals = team_goal.sort_values('total_goal', ascending = False)\n",
    "most_goals.head()"
   ]
  },
  {
   "cell_type": "code",
   "execution_count": 92,
   "id": "1209bf5c-260e-40a6-af73-d3bb5fb32dc2",
   "metadata": {
    "tags": []
   },
   "outputs": [
    {
     "data": {
      "image/png": "[encoded data removed]",
      "text/plain": [
       "<Figure size 1200x500 with 1 Axes>"
      ]
     },
     "metadata": {},
     "output_type": "display_data"
    }
   ],
   "source": [
    "plt.figure(figsize=(12,5))\n",
    "sns.barplot(data = most_goals.head(),\n",
    "            x = \"team_title\",\n",
    "            y = \"total_goal\")\n",
    "\n",
    "plt.title(\"Jumlah Gol dari Tim\")\n",
    "plt.xlabel(\"Team Name\")\n",
    "plt.ylabel(\"Total Goals\")\n",
    "\n",
    "plt.show()"
   ]
  },
  {
   "cell_type": "markdown",
   "id": "bdafd63f-7fd1-4e99-a393-0a84a786d606",
   "metadata": {},
   "source": [
    "Berdasarkan dataframe dan juga barplot, 5 kesebelasan yang memiliki goal terbanyak adalah:\n",
    "1. Manchester City (77)\n",
    "2. Manchester United (68)\n",
    "3. Tottenham (66)\n",
    "4. Liverpool (64)\n",
    "5. Leicester (64)"
   ]
  },
  {
   "cell_type": "code",
   "execution_count": 96,
   "id": "548243e3-ef07-4a8e-b63a-5374b28bbe7c",
   "metadata": {
    "tags": []
   },
   "outputs": [
    {
     "data": {
      "text/html": [
       "<div>\n",
       "<style scoped>\n",
       "    .dataframe tbody tr th:only-of-type {\n",
       "        vertical-align: middle;\n",
       "    }\n",
       "\n",
       "    .dataframe tbody tr th {\n",
       "        vertical-align: top;\n",
       "    }\n",
       "\n",
       "    .dataframe thead th {\n",
       "        text-align: right;\n",
       "    }\n",
       "</style>\n",
       "<table border=\"1\" class=\"dataframe\">\n",
       "  <thead>\n",
       "    <tr style=\"text-align: right;\">\n",
       "      <th></th>\n",
       "      <th>player_name</th>\n",
       "      <th>goals</th>\n",
       "    </tr>\n",
       "  </thead>\n",
       "  <tbody>\n",
       "    <tr>\n",
       "      <th>1</th>\n",
       "      <td>Mohamed Salah</td>\n",
       "      <td>22</td>\n",
       "    </tr>\n",
       "    <tr>\n",
       "      <th>3</th>\n",
       "      <td>Son Heung-Min</td>\n",
       "      <td>17</td>\n",
       "    </tr>\n",
       "    <tr>\n",
       "      <th>13</th>\n",
       "      <td>Chris Wood</td>\n",
       "      <td>12</td>\n",
       "    </tr>\n",
       "    <tr>\n",
       "      <th>28</th>\n",
       "      <td>Riyad Mahrez</td>\n",
       "      <td>9</td>\n",
       "    </tr>\n",
       "    <tr>\n",
       "      <th>29</th>\n",
       "      <td>Harvey Barnes</td>\n",
       "      <td>9</td>\n",
       "    </tr>\n",
       "    <tr>\n",
       "      <th>...</th>\n",
       "      <td>...</td>\n",
       "      <td>...</td>\n",
       "    </tr>\n",
       "    <tr>\n",
       "      <th>353</th>\n",
       "      <td>Lys Mousset</td>\n",
       "      <td>0</td>\n",
       "    </tr>\n",
       "    <tr>\n",
       "      <th>343</th>\n",
       "      <td>Islam Slimani</td>\n",
       "      <td>0</td>\n",
       "    </tr>\n",
       "    <tr>\n",
       "      <th>341</th>\n",
       "      <td>Moise Kean</td>\n",
       "      <td>0</td>\n",
       "    </tr>\n",
       "    <tr>\n",
       "      <th>340</th>\n",
       "      <td>Emerson</td>\n",
       "      <td>0</td>\n",
       "    </tr>\n",
       "    <tr>\n",
       "      <th>521</th>\n",
       "      <td>Tyrese Francois</td>\n",
       "      <td>0</td>\n",
       "    </tr>\n",
       "  </tbody>\n",
       "</table>\n",
       "<p>164 rows × 2 columns</p>\n",
       "</div>"
      ],
      "text/plain": [
       "         player_name  goals\n",
       "1      Mohamed Salah     22\n",
       "3      Son Heung-Min     17\n",
       "13        Chris Wood     12\n",
       "28      Riyad Mahrez      9\n",
       "29     Harvey Barnes      9\n",
       "..               ...    ...\n",
       "353      Lys Mousset      0\n",
       "343    Islam Slimani      0\n",
       "341       Moise Kean      0\n",
       "340          Emerson      0\n",
       "521  Tyrese Francois      0\n",
       "\n",
       "[164 rows x 2 columns]"
      ]
     },
     "execution_count": 96,
     "metadata": {},
     "output_type": "execute_result"
    }
   ],
   "source": [
    "# Q9. Pemain dengan jumlah gol terbanyak tanpa mendapatkan kartu\n",
    "\n",
    "# filtering to player that doesnt receive a card\n",
    "# which mean 0 yellow card and 0 red card\n",
    "no_card = df.loc[(df['yellow_cards'] == 0) & (df['red_cards'] == 0)]\n",
    "\n",
    "# sorting player with most goals\n",
    "no_card_sort = no_card.sort_values(\"goals\", ascending = False)\n",
    "no_card_sort[['player_name', \"goals\"]]"
   ]
  },
  {
   "cell_type": "code",
   "execution_count": 100,
   "id": "86a21be4-2572-400f-a6bf-44717f134bb8",
   "metadata": {
    "tags": []
   },
   "outputs": [
    {
     "data": {
      "image/png": "[encoded data removed]",
      "text/plain": [
       "<Figure size 1200x500 with 1 Axes>"
      ]
     },
     "metadata": {},
     "output_type": "display_data"
    }
   ],
   "source": [
    "plt.figure(figsize=(12,5))\n",
    "sns.barplot(no_card_sort.head(),\n",
    "            x = \"player_name\",\n",
    "            y = 'goals')\n",
    "\n",
    "plt.title(\"Jumlah Gol dari Pemain \\n (Tanpa Kartu)\")\n",
    "plt.xlabel(\"Player Name\")\n",
    "plt.ylabel(\"Goals\")\n",
    "plt.show()"
   ]
  },
  {
   "cell_type": "markdown",
   "id": "b2054160-0f4d-4d64-9d29-ed0eab50b23b",
   "metadata": {},
   "source": [
    "Berdasarkan dataframe dan juga barplot, 5 pemain yang memiliki jumlah gol terbanyak tanpa mendapatkan kartu sama sekali adalah:\n",
    "1. Mohamed Salah (22)\n",
    "2. Son Heung-Min (17)\n",
    "3. Chris Wood (12)\n",
    "4. Riyad Mahrez (9)\n",
    "5. Harvey Barnes (9)"
   ]
  },
  {
   "cell_type": "markdown",
   "id": "6380bea8-bb54-4e51-9cda-b778171a3489",
   "metadata": {},
   "source": [
    "# Kesimpulan\n",
    "\n",
    "Berdasarkan EDA (Exploratory Data Analysis) yang telah dilakukan, berikut merupakan kesimpulan dari *findings* yang telah didapatkan:\n",
    "1. Harry Kane merupakan pencetak gol terbanyak di EPL dengan 23 gol.\n",
    "2. Hojbjerg, Emi Martinez, dan K. Schmeiche merupakan pemain yang memiliki waktu bermain terlama, yaitu 3420.\n",
    "3. Harry Kane merupakan pemain yang memiliki assist terbanyak di EPL dengan jumlah 14 assist.\n",
    "4. Gundogan, Sterling, Mahrez, dan G. Jesus merupakan 4 pemain dari Manchester City yang memiliki gol terbanyak.\n",
    "5. Pencetak Gol terbanyak merupakan Harry Kane yang berasal dari kesebelasan Tottenham.\n",
    "6. Jumlah kartu kuning dan kartu merah yang didapatkan oleh pemain dengan assist terbanyak (Harry Kane) adalah 1 dan 0.\n",
    "7. Pemain dengan jumlah gol dan assist banyak adalah Harry Kane yang berasal dari kesebelasan Tottenham.\n",
    "8. Man. City, Man. United, Tottenham, Liverpool, Leicester merupakan 5 kesebelasan yang memiliki gol terbanyak.\n",
    "9. Mohamed Salah merupakan pemain yang memili gol terbanyak yang tidak pernah mendapatkan kartu."
   ]
  }
 ],
 "metadata": {
  "kernelspec": {
   "display_name": "Python 3 (ipykernel)",
   "language": "python",
   "name": "python3"
  },
  "language_info": {
   "codemirror_mode": {
    "name": "ipython",
    "version": 3
   },
   "file_extension": ".py",
   "mimetype": "text/x-python",
   "name": "python",
   "nbconvert_exporter": "python",
   "pygments_lexer": "ipython3",
   "version": "3.8.5"
  }
 },
 "nbformat": 4,
 "nbformat_minor": 5
}
